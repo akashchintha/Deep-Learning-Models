{
  "nbformat": 4,
  "nbformat_minor": 0,
  "metadata": {
    "colab": {
      "name": "SqueezeNet - Fashion MNIST.ipvynb",
      "version": "0.3.2",
      "provenance": [],
      "collapsed_sections": [],
      "include_colab_link": true
    },
    "kernelspec": {
      "name": "python3",
      "display_name": "Python 3"
    },
    "accelerator": "GPU"
  },
  "cells": [
    {
      "cell_type": "markdown",
      "metadata": {
        "id": "view-in-github",
        "colab_type": "text"
      },
      "source": [
        "<a href=\"https://colab.research.google.com/github/akashchintha/Deep-Learning-Models/blob/master/SqueezeNet_Fashion_MNIST.ipynb\" target=\"_parent\"><img src=\"https://colab.research.google.com/assets/colab-badge.svg\" alt=\"Open In Colab\"/></a>"
      ]
    },
    {
      "metadata": {
        "id": "p3Zw6vihqC_I",
        "colab_type": "text"
      },
      "cell_type": "markdown",
      "source": [
        "# SqueezeNet - Fashion MNIST\n",
        "\n",
        "Aim:\n",
        "\n",
        "1. Implement a [SqueezeNet convolutional neural network](https://arxiv.org/pdf/1602.07360.pdf) architecture.\n",
        "2. Modify the architecture to use [depthwise seperable convolutions](https://arxiv.org/pdf/1704.04861.pdf) for better on-device performance. \n",
        "3. Train your model to classify images of fashion items supplied in the [FashionMNIST dataset](https://github.com/zalandoresearch/fashion-mnist).\n"
      ]
    },
    {
      "metadata": {
        "id": "1evqMGe2ugwy",
        "colab_type": "text"
      },
      "cell_type": "markdown",
      "source": [
        "## Setup and Data\n",
        "Code below will import the Fashion MNIST data into a Numpy array using Keras's built in dataset API. Though we use Keras for this step, you are free to use the deep learning framework of your choosing to implement and train your model.\n",
        "\n",
        "You can read more on the [Fashion MNIST data format here](https://keras.io/datasets/#fashion-mnist-database-of-fashion-articles)."
      ]
    },
    {
      "metadata": {
        "id": "yem1QpcDq5xp",
        "colab_type": "code",
        "outputId": "36eca01b-64a3-41dd-a6a3-246f8771ca62",
        "colab": {
          "base_uri": "https://localhost:8080/",
          "height": 34
        }
      },
      "cell_type": "code",
      "source": [
        "# Import the packages we'll need\n",
        "import keras\n",
        "import numpy as np\n",
        "import matplotlib.pyplot as plt\n",
        "from keras.layers import Input, Convolution2D, SeparableConv2D, Activation, concatenate, Dropout, warnings\n",
        "from keras.layers import GlobalAveragePooling2D, BatchNormalization\n",
        "from keras.models import Model"
      ],
      "execution_count": 0,
      "outputs": [
        {
          "output_type": "stream",
          "text": [
            "Using TensorFlow backend.\n"
          ],
          "name": "stderr"
        }
      ]
    },
    {
      "metadata": {
        "id": "V-zO6CKOkf34",
        "colab_type": "text"
      },
      "cell_type": "markdown",
      "source": [
        "\n",
        "\n",
        "*   Load the Fashion MNIST data\n",
        "*   Normalize the image input to restrict it between 0 and 1\n",
        "*   Add third dimension to the data as it will be needed to manage activation maps in the model\n",
        "\n",
        "\n",
        "\n"
      ]
    },
    {
      "metadata": {
        "id": "twykYPPDqp5h",
        "colab_type": "code",
        "colab": {}
      },
      "cell_type": "code",
      "source": [
        "fashion_mnist = keras.datasets.fashion_mnist\n",
        "\n",
        "(x_train, y_train), (x_test, y_test) = fashion_mnist.load_data()\n",
        "\n",
        "x_train = x_train / 255.0\n",
        "\n",
        "x_test = x_test / 255.0\n",
        "\n",
        "# Add empty color dimension\n",
        "x_train = np.expand_dims(x_train, -1)  # shape: (num_samples, 28, 28, 1)\n",
        "x_test = np.expand_dims(x_test, -1) # shape: (num_samples, 1)"
      ],
      "execution_count": 0,
      "outputs": []
    },
    {
      "metadata": {
        "id": "rpZl9ZBUlTJY",
        "colab_type": "text"
      },
      "cell_type": "markdown",
      "source": [
        "Plot a few examples. \n",
        "\n",
        "\n",
        "\n",
        "\n",
        "Note that the images are black and white and that the labels are provided as integer values 0-9."
      ]
    },
    {
      "metadata": {
        "id": "OPyZ4GkqrLac",
        "colab_type": "code",
        "outputId": "439fc602-fa0a-44cf-96e7-720b7f049895",
        "colab": {
          "base_uri": "https://localhost:8080/",
          "height": 401
        }
      },
      "cell_type": "code",
      "source": [
        "num_examples = 9\n",
        "indexes = np.random.randint(x_train.shape[0], size=(num_examples))\n",
        "\n",
        "dim = int(np.sqrt(num_examples))\n",
        "\n",
        "fig = plt.figure()\n",
        "k = 1\n",
        "for idx in indexes:\n",
        "    ax = fig.add_subplot(dim, dim, k)\n",
        "    ax.imshow(x_train[idx][:, :, 0])\n",
        "    ax.set_title('Class: %d' % y_train[idx])\n",
        "    k += 1\n",
        "fig.tight_layout()"
      ],
      "execution_count": 0,
      "outputs": [
        {
          "output_type": "display_data",
          "data": {
            "image/png": "[encoded data removed]",
            "text/plain": [
              "<Figure size 576x396 with 9 Axes>"
            ]
          },
          "metadata": {
            "tags": []
          }
        }
      ]
    },
    {
      "metadata": {
        "id": "VA0SD2jmvED3",
        "colab_type": "text"
      },
      "cell_type": "markdown",
      "source": [
        "## Implement and modify SqueezeNet\n",
        "In this section, you'll implement and modify the SqueezeNet model architecture. SqueezeNet models are neural 50x smaller than the original AlexNet model, but achieve the same performance on ImageNet classification. They're size and runtime performance make them a good choice for computer vision models meant to be used on-device. You can consult the [original paper here](https://arxiv.org/pdf/1602.07360.pdf) as well as open source implementations in various frameworks ([Keras](https://github.com/rcmalli/keras-squeezenet/blob/master/keras_squeezenet/squeezenet.py), [TensorFlow](https://github.com/tensorflow/tpu/blob/master/models/official/squeezenet/squeezenet_model.py#L61), [PyTorch](https://github.com/pytorch/vision/blob/master/torchvision/models/squeezenet.py)). Again, you do not need to implement this from scratch, but do not simply import these models to use as is, you will need to be able to modify them.\n",
        "\n",
        "Tasks:\n",
        "\n",
        "    Implement the most basic configuration of SqueezeNet, specifically the left most column of Figure 2 of the SqueezeNet paper linked above. The model should take a Fashion MNIST image as input and output a vector of probabilities corresponding to the model's confidence that the image belongs to each class.\n",
        "\n",
        "Note: You may ignore MaxPooling layers given that the dataset provided has very small images (28x28).\n",
        "\n"
      ]
    },
    {
      "metadata": {
        "id": "XT0lQ2jRrPS4",
        "colab_type": "code",
        "colab": {}
      },
      "cell_type": "code",
      "source": [
        "# SqueezeNet implementation\n",
        "def fire_module(x, id, squeeze=16, expand=64):\n",
        "  s_id = 'fire' + str(id) + '/'\n",
        "  x = Convolution2D(squeeze, (1, 1), padding='valid', name=s_id + 'sq1x1')(x)\n",
        "  x = Activation('relu', name=s_id + 'relu_sq1x1')(x)\n",
        " \n",
        "  left = Convolution2D(expand, (1, 1), padding='valid', name=s_id + 'exp1x1')(x)\n",
        "  left = Activation('relu', name=s_id + 'relu_exp1x1')(left)\n",
        " \n",
        "  right = Convolution2D(expand, (3, 3), padding='same', name=s_id + 'exp3x3')(x)\n",
        "  right = Activation('relu', name=s_id + 'relu_exp3x3')(right)\n",
        " \n",
        "  return concatenate([left, right], axis=3, name=s_id + 'concat')\n",
        "  \n",
        "  \n",
        "\n",
        "def build_squeezenet(input_shape=(28, 28, 1), n_classes=10):\n",
        "  input = Input(shape=input_shape)\n",
        "  x = Convolution2D(96, (3, 3), strides=(2, 2), padding='valid', name='conv1')(input)\n",
        "  x = Activation('relu', name='relu_conv1')(x)\n",
        "\n",
        "  x = fire_module(x, id=2, squeeze=16, expand=128)\n",
        "  x = fire_module(x, id=3, squeeze=16, expand=128)\n",
        "\n",
        "  x = fire_module(x, id=4, squeeze=32, expand=256)\n",
        "  x = fire_module(x, id=5, squeeze=32, expand=256)\n",
        "\n",
        "  x = fire_module(x, id=6, squeeze=48, expand=384)\n",
        "  x = fire_module(x, id=7, squeeze=48, expand=384)\n",
        "  x = fire_module(x, id=8, squeeze=64, expand=512)\n",
        "  x = fire_module(x, id=9, squeeze=64, expand=512)\n",
        "  x = Dropout(0.5, name='drop')(x)\n",
        "\n",
        "  x = Convolution2D(n_classes, (1, 1), padding='valid', name='conv10')(x)\n",
        "  x = Activation('relu', name='relu_conv10')(x)\n",
        "  x = GlobalAveragePooling2D()(x)\n",
        "  out = Activation('softmax', name='softmax')(x)\n",
        "\n",
        "  model = Model(input, out, name='squeezenet')\n",
        "  model.compile(loss='sparse_categorical_crossentropy', optimizer='adam', metrics = ['accuracy'])\n",
        "  print(model.summary())\n",
        "  return model"
      ],
      "execution_count": 0,
      "outputs": []
    },
    {
      "metadata": {
        "id": "ygvEp8RCovI1",
        "colab_type": "text"
      },
      "cell_type": "markdown",
      "source": [
        "    Modify the SqueezeNet architecture to use Depthwise Seperable convolutions instead of regular convolutions for better runtime performance. \n",
        "\n",
        "Note: You should include Batch Normalization layers after depthwise seperable convolution layers and before RELU activation layers to improve training."
      ]
    },
    {
      "metadata": {
        "id": "gihUz2S7olcp",
        "colab_type": "code",
        "colab": {}
      },
      "cell_type": "code",
      "source": [
        "# Squeezenet with Depthwise Convolutions\n",
        "def fire_module_depthwise(x, id, squeeze=16, expand=64):\n",
        "  s_id = 'fire' + str(id) + '/'\n",
        "  x = SeparableConv2D(squeeze, (1, 1), padding='valid', name=s_id + 'sq1x1')(x)\n",
        "  x = BatchNormalization()(x)\n",
        "  x = Activation('relu', name=s_id + 'relu_sq1x1')(x)\n",
        " \n",
        "  left = SeparableConv2D(expand, (1, 1), padding='valid', name=s_id + 'exp1x1')(x)\n",
        "  left = BatchNormalization()(left)\n",
        "  left = Activation('relu', name=s_id + 'relu_exp1x1')(left)\n",
        " \n",
        "  right = SeparableConv2D(expand, (3, 3), padding='same', name=s_id + 'exp3x3')(x)\n",
        "  right = BatchNormalization()(right)\n",
        "  right = Activation('relu', name=s_id + 'relu_exp3x3')(right)\n",
        " \n",
        "  return concatenate([left, right], axis=3, name=s_id + 'concat')\n",
        "\n",
        "\n",
        "\n",
        "def build_squeezenet_depthwise(input_shape=(28, 28, 1), n_classes=10):\n",
        "  input = Input(shape=input_shape)\n",
        "  x = SeparableConv2D(96, (3, 3), strides=(2, 2), padding='valid', name='conv1')(input)\n",
        "  x = BatchNormalization()(x)\n",
        "  x = Activation('relu', name='relu_conv1')(x)\n",
        "\n",
        "  x = fire_module_depthwise(x, id=2, squeeze=16, expand=128)\n",
        "  x = fire_module_depthwise(x, id=3, squeeze=16, expand=128)\n",
        "\n",
        "  x = fire_module_depthwise(x, id=4, squeeze=32, expand=256)\n",
        "  x = fire_module_depthwise(x, id=5, squeeze=32, expand=256)\n",
        "\n",
        "  x = fire_module_depthwise(x, id=6, squeeze=48, expand=384)\n",
        "  x = fire_module_depthwise(x, id=7, squeeze=48, expand=384)\n",
        "  x = fire_module_depthwise(x, id=8, squeeze=64, expand=512)\n",
        "  x = fire_module_depthwise(x, id=9, squeeze=64, expand=512)\n",
        "  x = Dropout(0.5, name='drop')(x)\n",
        "\n",
        "  x = SeparableConv2D(n_classes, (1, 1), padding='valid', name='conv10')(x)\n",
        "  x = BatchNormalization()(x)\n",
        "  x = Activation('relu', name='relu_conv10')(x)\n",
        "  x = GlobalAveragePooling2D()(x)\n",
        "  out = Activation('softmax', name='softmax')(x)\n",
        "\n",
        "  model = Model(input, out, name='squeezenet')\n",
        "  model.compile(loss='sparse_categorical_crossentropy', optimizer='adam', metrics = ['accuracy'])\n",
        "  print(model.summary())\n",
        "  return model"
      ],
      "execution_count": 0,
      "outputs": []
    },
    {
      "metadata": {
        "id": "R54_zSA0mWUo",
        "colab_type": "text"
      },
      "cell_type": "markdown",
      "source": [
        "Initialize models for both the architectures.\n",
        "\n",
        "Summary for both the models are printed out during initialization.\n",
        "\n",
        "***SqueezeNet*** - Total params: 1,451,786\n",
        "\n",
        "***SqueezeNet (with depthwise convolution)*** - Total params: 498,587"
      ]
    },
    {
      "metadata": {
        "id": "xYFw6-x0wRm-",
        "colab_type": "code",
        "outputId": "17f82195-a34d-4c17-d723-cf6e4a5fc999",
        "colab": {
          "base_uri": "https://localhost:8080/",
          "height": 5729
        }
      },
      "cell_type": "code",
      "source": [
        "model = build_squeezenet()\n",
        "model_dw = build_squeezenet_depthwise()"
      ],
      "execution_count": 0,
      "outputs": [
        {
          "output_type": "stream",
          "text": [
            "__________________________________________________________________________________________________\n",
            "Layer (type)                    Output Shape         Param #     Connected to                     \n",
            "==================================================================================================\n",
            "input_3 (InputLayer)            (None, 28, 28, 1)    0                                            \n",
            "__________________________________________________________________________________________________\n",
            "conv1 (Conv2D)                  (None, 13, 13, 96)   960         input_3[0][0]                    \n",
            "__________________________________________________________________________________________________\n",
            "relu_conv1 (Activation)         (None, 13, 13, 96)   0           conv1[0][0]                      \n",
            "__________________________________________________________________________________________________\n",
            "fire2/sq1x1 (Conv2D)            (None, 13, 13, 16)   1552        relu_conv1[0][0]                 \n",
            "__________________________________________________________________________________________________\n",
            "fire2/relu_sq1x1 (Activation)   (None, 13, 13, 16)   0           fire2/sq1x1[0][0]                \n",
            "__________________________________________________________________________________________________\n",
            "fire2/exp1x1 (Conv2D)           (None, 13, 13, 128)  2176        fire2/relu_sq1x1[0][0]           \n",
            "__________________________________________________________________________________________________\n",
            "fire2/exp3x3 (Conv2D)           (None, 13, 13, 128)  18560       fire2/relu_sq1x1[0][0]           \n",
            "__________________________________________________________________________________________________\n",
            "fire2/relu_exp1x1 (Activation)  (None, 13, 13, 128)  0           fire2/exp1x1[0][0]               \n",
            "__________________________________________________________________________________________________\n",
            "fire2/relu_exp3x3 (Activation)  (None, 13, 13, 128)  0           fire2/exp3x3[0][0]               \n",
            "__________________________________________________________________________________________________\n",
            "fire2/concat (Concatenate)      (None, 13, 13, 256)  0           fire2/relu_exp1x1[0][0]          \n",
            "                                                                 fire2/relu_exp3x3[0][0]          \n",
            "__________________________________________________________________________________________________\n",
            "fire3/sq1x1 (Conv2D)            (None, 13, 13, 16)   4112        fire2/concat[0][0]               \n",
            "__________________________________________________________________________________________________\n",
            "fire3/relu_sq1x1 (Activation)   (None, 13, 13, 16)   0           fire3/sq1x1[0][0]                \n",
            "__________________________________________________________________________________________________\n",
            "fire3/exp1x1 (Conv2D)           (None, 13, 13, 128)  2176        fire3/relu_sq1x1[0][0]           \n",
            "__________________________________________________________________________________________________\n",
            "fire3/exp3x3 (Conv2D)           (None, 13, 13, 128)  18560       fire3/relu_sq1x1[0][0]           \n",
            "__________________________________________________________________________________________________\n",
            "fire3/relu_exp1x1 (Activation)  (None, 13, 13, 128)  0           fire3/exp1x1[0][0]               \n",
            "__________________________________________________________________________________________________\n",
            "fire3/relu_exp3x3 (Activation)  (None, 13, 13, 128)  0           fire3/exp3x3[0][0]               \n",
            "__________________________________________________________________________________________________\n",
            "fire3/concat (Concatenate)      (None, 13, 13, 256)  0           fire3/relu_exp1x1[0][0]          \n",
            "                                                                 fire3/relu_exp3x3[0][0]          \n",
            "__________________________________________________________________________________________________\n",
            "fire4/sq1x1 (Conv2D)            (None, 13, 13, 32)   8224        fire3/concat[0][0]               \n",
            "__________________________________________________________________________________________________\n",
            "fire4/relu_sq1x1 (Activation)   (None, 13, 13, 32)   0           fire4/sq1x1[0][0]                \n",
            "__________________________________________________________________________________________________\n",
            "fire4/exp1x1 (Conv2D)           (None, 13, 13, 256)  8448        fire4/relu_sq1x1[0][0]           \n",
            "__________________________________________________________________________________________________\n",
            "fire4/exp3x3 (Conv2D)           (None, 13, 13, 256)  73984       fire4/relu_sq1x1[0][0]           \n",
            "__________________________________________________________________________________________________\n",
            "fire4/relu_exp1x1 (Activation)  (None, 13, 13, 256)  0           fire4/exp1x1[0][0]               \n",
            "__________________________________________________________________________________________________\n",
            "fire4/relu_exp3x3 (Activation)  (None, 13, 13, 256)  0           fire4/exp3x3[0][0]               \n",
            "__________________________________________________________________________________________________\n",
            "fire4/concat (Concatenate)      (None, 13, 13, 512)  0           fire4/relu_exp1x1[0][0]          \n",
            "                                                                 fire4/relu_exp3x3[0][0]          \n",
            "__________________________________________________________________________________________________\n",
            "fire5/sq1x1 (Conv2D)            (None, 13, 13, 32)   16416       fire4/concat[0][0]               \n",
            "__________________________________________________________________________________________________\n",
            "fire5/relu_sq1x1 (Activation)   (None, 13, 13, 32)   0           fire5/sq1x1[0][0]                \n",
            "__________________________________________________________________________________________________\n",
            "fire5/exp1x1 (Conv2D)           (None, 13, 13, 256)  8448        fire5/relu_sq1x1[0][0]           \n",
            "__________________________________________________________________________________________________\n",
            "fire5/exp3x3 (Conv2D)           (None, 13, 13, 256)  73984       fire5/relu_sq1x1[0][0]           \n",
            "__________________________________________________________________________________________________\n",
            "fire5/relu_exp1x1 (Activation)  (None, 13, 13, 256)  0           fire5/exp1x1[0][0]               \n",
            "__________________________________________________________________________________________________\n",
            "fire5/relu_exp3x3 (Activation)  (None, 13, 13, 256)  0           fire5/exp3x3[0][0]               \n",
            "__________________________________________________________________________________________________\n",
            "fire5/concat (Concatenate)      (None, 13, 13, 512)  0           fire5/relu_exp1x1[0][0]          \n",
            "                                                                 fire5/relu_exp3x3[0][0]          \n",
            "__________________________________________________________________________________________________\n",
            "fire6/sq1x1 (Conv2D)            (None, 13, 13, 48)   24624       fire5/concat[0][0]               \n",
            "__________________________________________________________________________________________________\n",
            "fire6/relu_sq1x1 (Activation)   (None, 13, 13, 48)   0           fire6/sq1x1[0][0]                \n",
            "__________________________________________________________________________________________________\n",
            "fire6/exp1x1 (Conv2D)           (None, 13, 13, 384)  18816       fire6/relu_sq1x1[0][0]           \n",
            "__________________________________________________________________________________________________\n",
            "fire6/exp3x3 (Conv2D)           (None, 13, 13, 384)  166272      fire6/relu_sq1x1[0][0]           \n",
            "__________________________________________________________________________________________________\n",
            "fire6/relu_exp1x1 (Activation)  (None, 13, 13, 384)  0           fire6/exp1x1[0][0]               \n",
            "__________________________________________________________________________________________________\n",
            "fire6/relu_exp3x3 (Activation)  (None, 13, 13, 384)  0           fire6/exp3x3[0][0]               \n",
            "__________________________________________________________________________________________________\n",
            "fire6/concat (Concatenate)      (None, 13, 13, 768)  0           fire6/relu_exp1x1[0][0]          \n",
            "                                                                 fire6/relu_exp3x3[0][0]          \n",
            "__________________________________________________________________________________________________\n",
            "fire7/sq1x1 (Conv2D)            (None, 13, 13, 48)   36912       fire6/concat[0][0]               \n",
            "__________________________________________________________________________________________________\n",
            "fire7/relu_sq1x1 (Activation)   (None, 13, 13, 48)   0           fire7/sq1x1[0][0]                \n",
            "__________________________________________________________________________________________________\n",
            "fire7/exp1x1 (Conv2D)           (None, 13, 13, 384)  18816       fire7/relu_sq1x1[0][0]           \n",
            "__________________________________________________________________________________________________\n",
            "fire7/exp3x3 (Conv2D)           (None, 13, 13, 384)  166272      fire7/relu_sq1x1[0][0]           \n",
            "__________________________________________________________________________________________________\n",
            "fire7/relu_exp1x1 (Activation)  (None, 13, 13, 384)  0           fire7/exp1x1[0][0]               \n",
            "__________________________________________________________________________________________________\n",
            "fire7/relu_exp3x3 (Activation)  (None, 13, 13, 384)  0           fire7/exp3x3[0][0]               \n",
            "__________________________________________________________________________________________________\n",
            "fire7/concat (Concatenate)      (None, 13, 13, 768)  0           fire7/relu_exp1x1[0][0]          \n",
            "                                                                 fire7/relu_exp3x3[0][0]          \n",
            "__________________________________________________________________________________________________\n",
            "fire8/sq1x1 (Conv2D)            (None, 13, 13, 64)   49216       fire7/concat[0][0]               \n",
            "__________________________________________________________________________________________________\n",
            "fire8/relu_sq1x1 (Activation)   (None, 13, 13, 64)   0           fire8/sq1x1[0][0]                \n",
            "__________________________________________________________________________________________________\n",
            "fire8/exp1x1 (Conv2D)           (None, 13, 13, 512)  33280       fire8/relu_sq1x1[0][0]           \n",
            "__________________________________________________________________________________________________\n",
            "fire8/exp3x3 (Conv2D)           (None, 13, 13, 512)  295424      fire8/relu_sq1x1[0][0]           \n",
            "__________________________________________________________________________________________________\n",
            "fire8/relu_exp1x1 (Activation)  (None, 13, 13, 512)  0           fire8/exp1x1[0][0]               \n",
            "__________________________________________________________________________________________________\n",
            "fire8/relu_exp3x3 (Activation)  (None, 13, 13, 512)  0           fire8/exp3x3[0][0]               \n",
            "__________________________________________________________________________________________________\n",
            "fire8/concat (Concatenate)      (None, 13, 13, 1024) 0           fire8/relu_exp1x1[0][0]          \n",
            "                                                                 fire8/relu_exp3x3[0][0]          \n",
            "__________________________________________________________________________________________________\n",
            "fire9/sq1x1 (Conv2D)            (None, 13, 13, 64)   65600       fire8/concat[0][0]               \n",
            "__________________________________________________________________________________________________\n",
            "fire9/relu_sq1x1 (Activation)   (None, 13, 13, 64)   0           fire9/sq1x1[0][0]                \n",
            "__________________________________________________________________________________________________\n",
            "fire9/exp1x1 (Conv2D)           (None, 13, 13, 512)  33280       fire9/relu_sq1x1[0][0]           \n",
            "__________________________________________________________________________________________________\n",
            "fire9/exp3x3 (Conv2D)           (None, 13, 13, 512)  295424      fire9/relu_sq1x1[0][0]           \n",
            "__________________________________________________________________________________________________\n",
            "fire9/relu_exp1x1 (Activation)  (None, 13, 13, 512)  0           fire9/exp1x1[0][0]               \n",
            "__________________________________________________________________________________________________\n",
            "fire9/relu_exp3x3 (Activation)  (None, 13, 13, 512)  0           fire9/exp3x3[0][0]               \n",
            "__________________________________________________________________________________________________\n",
            "fire9/concat (Concatenate)      (None, 13, 13, 1024) 0           fire9/relu_exp1x1[0][0]          \n",
            "                                                                 fire9/relu_exp3x3[0][0]          \n",
            "__________________________________________________________________________________________________\n",
            "drop (Dropout)                  (None, 13, 13, 1024) 0           fire9/concat[0][0]               \n",
            "__________________________________________________________________________________________________\n",
            "conv10 (Conv2D)                 (None, 13, 13, 10)   10250       drop[0][0]                       \n",
            "__________________________________________________________________________________________________\n",
            "relu_conv10 (Activation)        (None, 13, 13, 10)   0           conv10[0][0]                     \n",
            "__________________________________________________________________________________________________\n",
            "global_average_pooling2d_3 (Glo (None, 10)           0           relu_conv10[0][0]                \n",
            "__________________________________________________________________________________________________\n",
            "softmax (Activation)            (None, 10)           0           global_average_pooling2d_3[0][0] \n",
            "==================================================================================================\n",
            "Total params: 1,451,786\n",
            "Trainable params: 1,451,786\n",
            "Non-trainable params: 0\n",
            "__________________________________________________________________________________________________\n",
            "None\n",
            "__________________________________________________________________________________________________\n",
            "Layer (type)                    Output Shape         Param #     Connected to                     \n",
            "==================================================================================================\n",
            "input_4 (InputLayer)            (None, 28, 28, 1)    0                                            \n",
            "__________________________________________________________________________________________________\n",
            "conv1 (SeparableConv2D)         (None, 13, 13, 96)   201         input_4[0][0]                    \n",
            "__________________________________________________________________________________________________\n",
            "batch_normalization_27 (BatchNo (None, 13, 13, 96)   384         conv1[0][0]                      \n",
            "__________________________________________________________________________________________________\n",
            "relu_conv1 (Activation)         (None, 13, 13, 96)   0           batch_normalization_27[0][0]     \n",
            "__________________________________________________________________________________________________\n",
            "fire2/sq1x1 (SeparableConv2D)   (None, 13, 13, 16)   1648        relu_conv1[0][0]                 \n",
            "__________________________________________________________________________________________________\n",
            "batch_normalization_28 (BatchNo (None, 13, 13, 16)   64          fire2/sq1x1[0][0]                \n",
            "__________________________________________________________________________________________________\n",
            "fire2/relu_sq1x1 (Activation)   (None, 13, 13, 16)   0           batch_normalization_28[0][0]     \n",
            "__________________________________________________________________________________________________\n",
            "fire2/exp1x1 (SeparableConv2D)  (None, 13, 13, 128)  2192        fire2/relu_sq1x1[0][0]           \n",
            "__________________________________________________________________________________________________\n",
            "fire2/exp3x3 (SeparableConv2D)  (None, 13, 13, 128)  2320        fire2/relu_sq1x1[0][0]           \n",
            "__________________________________________________________________________________________________\n",
            "batch_normalization_29 (BatchNo (None, 13, 13, 128)  512         fire2/exp1x1[0][0]               \n",
            "__________________________________________________________________________________________________\n",
            "batch_normalization_30 (BatchNo (None, 13, 13, 128)  512         fire2/exp3x3[0][0]               \n",
            "__________________________________________________________________________________________________\n",
            "fire2/relu_exp1x1 (Activation)  (None, 13, 13, 128)  0           batch_normalization_29[0][0]     \n",
            "__________________________________________________________________________________________________\n",
            "fire2/relu_exp3x3 (Activation)  (None, 13, 13, 128)  0           batch_normalization_30[0][0]     \n",
            "__________________________________________________________________________________________________\n",
            "fire2/concat (Concatenate)      (None, 13, 13, 256)  0           fire2/relu_exp1x1[0][0]          \n",
            "                                                                 fire2/relu_exp3x3[0][0]          \n",
            "__________________________________________________________________________________________________\n",
            "fire3/sq1x1 (SeparableConv2D)   (None, 13, 13, 16)   4368        fire2/concat[0][0]               \n",
            "__________________________________________________________________________________________________\n",
            "batch_normalization_31 (BatchNo (None, 13, 13, 16)   64          fire3/sq1x1[0][0]                \n",
            "__________________________________________________________________________________________________\n",
            "fire3/relu_sq1x1 (Activation)   (None, 13, 13, 16)   0           batch_normalization_31[0][0]     \n",
            "__________________________________________________________________________________________________\n",
            "fire3/exp1x1 (SeparableConv2D)  (None, 13, 13, 128)  2192        fire3/relu_sq1x1[0][0]           \n",
            "__________________________________________________________________________________________________\n",
            "fire3/exp3x3 (SeparableConv2D)  (None, 13, 13, 128)  2320        fire3/relu_sq1x1[0][0]           \n",
            "__________________________________________________________________________________________________\n",
            "batch_normalization_32 (BatchNo (None, 13, 13, 128)  512         fire3/exp1x1[0][0]               \n",
            "__________________________________________________________________________________________________\n",
            "batch_normalization_33 (BatchNo (None, 13, 13, 128)  512         fire3/exp3x3[0][0]               \n",
            "__________________________________________________________________________________________________\n",
            "fire3/relu_exp1x1 (Activation)  (None, 13, 13, 128)  0           batch_normalization_32[0][0]     \n",
            "__________________________________________________________________________________________________\n",
            "fire3/relu_exp3x3 (Activation)  (None, 13, 13, 128)  0           batch_normalization_33[0][0]     \n",
            "__________________________________________________________________________________________________\n",
            "fire3/concat (Concatenate)      (None, 13, 13, 256)  0           fire3/relu_exp1x1[0][0]          \n",
            "                                                                 fire3/relu_exp3x3[0][0]          \n",
            "__________________________________________________________________________________________________\n",
            "fire4/sq1x1 (SeparableConv2D)   (None, 13, 13, 32)   8480        fire3/concat[0][0]               \n",
            "__________________________________________________________________________________________________\n",
            "batch_normalization_34 (BatchNo (None, 13, 13, 32)   128         fire4/sq1x1[0][0]                \n",
            "__________________________________________________________________________________________________\n",
            "fire4/relu_sq1x1 (Activation)   (None, 13, 13, 32)   0           batch_normalization_34[0][0]     \n",
            "__________________________________________________________________________________________________\n",
            "fire4/exp1x1 (SeparableConv2D)  (None, 13, 13, 256)  8480        fire4/relu_sq1x1[0][0]           \n",
            "__________________________________________________________________________________________________\n",
            "fire4/exp3x3 (SeparableConv2D)  (None, 13, 13, 256)  8736        fire4/relu_sq1x1[0][0]           \n",
            "__________________________________________________________________________________________________\n",
            "batch_normalization_35 (BatchNo (None, 13, 13, 256)  1024        fire4/exp1x1[0][0]               \n",
            "__________________________________________________________________________________________________\n",
            "batch_normalization_36 (BatchNo (None, 13, 13, 256)  1024        fire4/exp3x3[0][0]               \n",
            "__________________________________________________________________________________________________\n",
            "fire4/relu_exp1x1 (Activation)  (None, 13, 13, 256)  0           batch_normalization_35[0][0]     \n",
            "__________________________________________________________________________________________________\n",
            "fire4/relu_exp3x3 (Activation)  (None, 13, 13, 256)  0           batch_normalization_36[0][0]     \n",
            "__________________________________________________________________________________________________\n",
            "fire4/concat (Concatenate)      (None, 13, 13, 512)  0           fire4/relu_exp1x1[0][0]          \n",
            "                                                                 fire4/relu_exp3x3[0][0]          \n",
            "__________________________________________________________________________________________________\n",
            "fire5/sq1x1 (SeparableConv2D)   (None, 13, 13, 32)   16928       fire4/concat[0][0]               \n",
            "__________________________________________________________________________________________________\n",
            "batch_normalization_37 (BatchNo (None, 13, 13, 32)   128         fire5/sq1x1[0][0]                \n",
            "__________________________________________________________________________________________________\n",
            "fire5/relu_sq1x1 (Activation)   (None, 13, 13, 32)   0           batch_normalization_37[0][0]     \n",
            "__________________________________________________________________________________________________\n",
            "fire5/exp1x1 (SeparableConv2D)  (None, 13, 13, 256)  8480        fire5/relu_sq1x1[0][0]           \n",
            "__________________________________________________________________________________________________\n",
            "fire5/exp3x3 (SeparableConv2D)  (None, 13, 13, 256)  8736        fire5/relu_sq1x1[0][0]           \n",
            "__________________________________________________________________________________________________\n",
            "batch_normalization_38 (BatchNo (None, 13, 13, 256)  1024        fire5/exp1x1[0][0]               \n",
            "__________________________________________________________________________________________________\n",
            "batch_normalization_39 (BatchNo (None, 13, 13, 256)  1024        fire5/exp3x3[0][0]               \n",
            "__________________________________________________________________________________________________\n",
            "fire5/relu_exp1x1 (Activation)  (None, 13, 13, 256)  0           batch_normalization_38[0][0]     \n",
            "__________________________________________________________________________________________________\n",
            "fire5/relu_exp3x3 (Activation)  (None, 13, 13, 256)  0           batch_normalization_39[0][0]     \n",
            "__________________________________________________________________________________________________\n",
            "fire5/concat (Concatenate)      (None, 13, 13, 512)  0           fire5/relu_exp1x1[0][0]          \n",
            "                                                                 fire5/relu_exp3x3[0][0]          \n",
            "__________________________________________________________________________________________________\n",
            "fire6/sq1x1 (SeparableConv2D)   (None, 13, 13, 48)   25136       fire5/concat[0][0]               \n",
            "__________________________________________________________________________________________________\n",
            "batch_normalization_40 (BatchNo (None, 13, 13, 48)   192         fire6/sq1x1[0][0]                \n",
            "__________________________________________________________________________________________________\n",
            "fire6/relu_sq1x1 (Activation)   (None, 13, 13, 48)   0           batch_normalization_40[0][0]     \n",
            "__________________________________________________________________________________________________\n",
            "fire6/exp1x1 (SeparableConv2D)  (None, 13, 13, 384)  18864       fire6/relu_sq1x1[0][0]           \n",
            "__________________________________________________________________________________________________\n",
            "fire6/exp3x3 (SeparableConv2D)  (None, 13, 13, 384)  19248       fire6/relu_sq1x1[0][0]           \n",
            "__________________________________________________________________________________________________\n",
            "batch_normalization_41 (BatchNo (None, 13, 13, 384)  1536        fire6/exp1x1[0][0]               \n",
            "__________________________________________________________________________________________________\n",
            "batch_normalization_42 (BatchNo (None, 13, 13, 384)  1536        fire6/exp3x3[0][0]               \n",
            "__________________________________________________________________________________________________\n",
            "fire6/relu_exp1x1 (Activation)  (None, 13, 13, 384)  0           batch_normalization_41[0][0]     \n",
            "__________________________________________________________________________________________________\n",
            "fire6/relu_exp3x3 (Activation)  (None, 13, 13, 384)  0           batch_normalization_42[0][0]     \n",
            "__________________________________________________________________________________________________\n",
            "fire6/concat (Concatenate)      (None, 13, 13, 768)  0           fire6/relu_exp1x1[0][0]          \n",
            "                                                                 fire6/relu_exp3x3[0][0]          \n",
            "__________________________________________________________________________________________________\n",
            "fire7/sq1x1 (SeparableConv2D)   (None, 13, 13, 48)   37680       fire6/concat[0][0]               \n",
            "__________________________________________________________________________________________________\n",
            "batch_normalization_43 (BatchNo (None, 13, 13, 48)   192         fire7/sq1x1[0][0]                \n",
            "__________________________________________________________________________________________________\n",
            "fire7/relu_sq1x1 (Activation)   (None, 13, 13, 48)   0           batch_normalization_43[0][0]     \n",
            "__________________________________________________________________________________________________\n",
            "fire7/exp1x1 (SeparableConv2D)  (None, 13, 13, 384)  18864       fire7/relu_sq1x1[0][0]           \n",
            "__________________________________________________________________________________________________\n",
            "fire7/exp3x3 (SeparableConv2D)  (None, 13, 13, 384)  19248       fire7/relu_sq1x1[0][0]           \n",
            "__________________________________________________________________________________________________\n",
            "batch_normalization_44 (BatchNo (None, 13, 13, 384)  1536        fire7/exp1x1[0][0]               \n",
            "__________________________________________________________________________________________________\n",
            "batch_normalization_45 (BatchNo (None, 13, 13, 384)  1536        fire7/exp3x3[0][0]               \n",
            "__________________________________________________________________________________________________\n",
            "fire7/relu_exp1x1 (Activation)  (None, 13, 13, 384)  0           batch_normalization_44[0][0]     \n",
            "__________________________________________________________________________________________________\n",
            "fire7/relu_exp3x3 (Activation)  (None, 13, 13, 384)  0           batch_normalization_45[0][0]     \n",
            "__________________________________________________________________________________________________\n",
            "fire7/concat (Concatenate)      (None, 13, 13, 768)  0           fire7/relu_exp1x1[0][0]          \n",
            "                                                                 fire7/relu_exp3x3[0][0]          \n",
            "__________________________________________________________________________________________________\n",
            "fire8/sq1x1 (SeparableConv2D)   (None, 13, 13, 64)   49984       fire7/concat[0][0]               \n",
            "__________________________________________________________________________________________________\n",
            "batch_normalization_46 (BatchNo (None, 13, 13, 64)   256         fire8/sq1x1[0][0]                \n",
            "__________________________________________________________________________________________________\n",
            "fire8/relu_sq1x1 (Activation)   (None, 13, 13, 64)   0           batch_normalization_46[0][0]     \n",
            "__________________________________________________________________________________________________\n",
            "fire8/exp1x1 (SeparableConv2D)  (None, 13, 13, 512)  33344       fire8/relu_sq1x1[0][0]           \n",
            "__________________________________________________________________________________________________\n",
            "fire8/exp3x3 (SeparableConv2D)  (None, 13, 13, 512)  33856       fire8/relu_sq1x1[0][0]           \n",
            "__________________________________________________________________________________________________\n",
            "batch_normalization_47 (BatchNo (None, 13, 13, 512)  2048        fire8/exp1x1[0][0]               \n",
            "__________________________________________________________________________________________________\n",
            "batch_normalization_48 (BatchNo (None, 13, 13, 512)  2048        fire8/exp3x3[0][0]               \n",
            "__________________________________________________________________________________________________\n",
            "fire8/relu_exp1x1 (Activation)  (None, 13, 13, 512)  0           batch_normalization_47[0][0]     \n",
            "__________________________________________________________________________________________________\n",
            "fire8/relu_exp3x3 (Activation)  (None, 13, 13, 512)  0           batch_normalization_48[0][0]     \n",
            "__________________________________________________________________________________________________\n",
            "fire8/concat (Concatenate)      (None, 13, 13, 1024) 0           fire8/relu_exp1x1[0][0]          \n",
            "                                                                 fire8/relu_exp3x3[0][0]          \n",
            "__________________________________________________________________________________________________\n",
            "fire9/sq1x1 (SeparableConv2D)   (None, 13, 13, 64)   66624       fire8/concat[0][0]               \n",
            "__________________________________________________________________________________________________\n",
            "batch_normalization_49 (BatchNo (None, 13, 13, 64)   256         fire9/sq1x1[0][0]                \n",
            "__________________________________________________________________________________________________\n",
            "fire9/relu_sq1x1 (Activation)   (None, 13, 13, 64)   0           batch_normalization_49[0][0]     \n",
            "__________________________________________________________________________________________________\n",
            "fire9/exp1x1 (SeparableConv2D)  (None, 13, 13, 512)  33344       fire9/relu_sq1x1[0][0]           \n",
            "__________________________________________________________________________________________________\n",
            "fire9/exp3x3 (SeparableConv2D)  (None, 13, 13, 512)  33856       fire9/relu_sq1x1[0][0]           \n",
            "__________________________________________________________________________________________________\n",
            "batch_normalization_50 (BatchNo (None, 13, 13, 512)  2048        fire9/exp1x1[0][0]               \n",
            "__________________________________________________________________________________________________\n",
            "batch_normalization_51 (BatchNo (None, 13, 13, 512)  2048        fire9/exp3x3[0][0]               \n",
            "__________________________________________________________________________________________________\n",
            "fire9/relu_exp1x1 (Activation)  (None, 13, 13, 512)  0           batch_normalization_50[0][0]     \n",
            "__________________________________________________________________________________________________\n",
            "fire9/relu_exp3x3 (Activation)  (None, 13, 13, 512)  0           batch_normalization_51[0][0]     \n",
            "__________________________________________________________________________________________________\n",
            "fire9/concat (Concatenate)      (None, 13, 13, 1024) 0           fire9/relu_exp1x1[0][0]          \n",
            "                                                                 fire9/relu_exp3x3[0][0]          \n",
            "__________________________________________________________________________________________________\n",
            "drop (Dropout)                  (None, 13, 13, 1024) 0           fire9/concat[0][0]               \n",
            "__________________________________________________________________________________________________\n",
            "conv10 (SeparableConv2D)        (None, 13, 13, 10)   11274       drop[0][0]                       \n",
            "__________________________________________________________________________________________________\n",
            "batch_normalization_52 (BatchNo (None, 13, 13, 10)   40          conv10[0][0]                     \n",
            "__________________________________________________________________________________________________\n",
            "relu_conv10 (Activation)        (None, 13, 13, 10)   0           batch_normalization_52[0][0]     \n",
            "__________________________________________________________________________________________________\n",
            "global_average_pooling2d_4 (Glo (None, 10)           0           relu_conv10[0][0]                \n",
            "__________________________________________________________________________________________________\n",
            "softmax (Activation)            (None, 10)           0           global_average_pooling2d_4[0][0] \n",
            "==================================================================================================\n",
            "Total params: 498,587\n",
            "Trainable params: 487,495\n",
            "Non-trainable params: 11,092\n",
            "__________________________________________________________________________________________________\n",
            "None\n"
          ],
          "name": "stdout"
        }
      ]
    },
    {
      "metadata": {
        "id": "xoW2hkvhxWe3",
        "colab_type": "text"
      },
      "cell_type": "markdown",
      "source": [
        "## Train your models\n",
        "\n",
        "Train the models implemented above. You should be able to achieve an accuracy of above 85% with both architectures. Do not worry about achieving the highest accuracy, we are primarily interested in proof that the model is training properly."
      ]
    },
    {
      "metadata": {
        "id": "R4XevVTOl5kU",
        "colab_type": "text"
      },
      "cell_type": "markdown",
      "source": [
        "**SQUEEZENET**"
      ]
    },
    {
      "metadata": {
        "id": "E1uPxVGRwYRb",
        "colab_type": "code",
        "outputId": "2ec98628-c1a3-4c8e-8d44-a123621c95bc",
        "colab": {
          "base_uri": "https://localhost:8080/",
          "height": 252
        }
      },
      "cell_type": "code",
      "source": [
        "# Your training code goes here\n",
        "print('Model: SqueezeNet')\n",
        "model.fit(x_train, y_train, epochs = 5, validation_split = 0.15)\n",
        "score, accuracy = model.evaluate(x_test, y_test)\n",
        "print('The testing accuracy for SqueezeNet is {}'.format(accuracy))"
      ],
      "execution_count": 0,
      "outputs": [
        {
          "output_type": "stream",
          "text": [
            "Model: SqueezeNet\n",
            "Train on 51000 samples, validate on 9000 samples\n",
            "Epoch 1/5\n",
            "51000/51000 [==============================] - 142s 3ms/step - loss: 1.0388 - acc: 0.6167 - val_loss: 0.5505 - val_acc: 0.7994\n",
            "Epoch 2/5\n",
            "51000/51000 [==============================] - 137s 3ms/step - loss: 0.4980 - acc: 0.8195 - val_loss: 0.4456 - val_acc: 0.8378\n",
            "Epoch 3/5\n",
            "51000/51000 [==============================] - 137s 3ms/step - loss: 0.4286 - acc: 0.8425 - val_loss: 0.3888 - val_acc: 0.8549\n",
            "Epoch 4/5\n",
            "51000/51000 [==============================] - 137s 3ms/step - loss: 0.3874 - acc: 0.8566 - val_loss: 0.4153 - val_acc: 0.8419\n",
            "Epoch 5/5\n",
            "51000/51000 [==============================] - 137s 3ms/step - loss: 0.3540 - acc: 0.8670 - val_loss: 0.3890 - val_acc: 0.8540\n",
            "10000/10000 [==============================] - 7s 725us/step\n",
            "The testing accuracy for SqueezeNet is 0.8539\n"
          ],
          "name": "stdout"
        }
      ]
    },
    {
      "metadata": {
        "id": "Uqslv-Ubl9RF",
        "colab_type": "text"
      },
      "cell_type": "markdown",
      "source": [
        "**SQUEEZENET with depthwise convolutions and batchnorm**"
      ]
    },
    {
      "metadata": {
        "id": "rX5wmzSGW2GI",
        "colab_type": "code",
        "outputId": "af665098-6c16-415e-9dac-a73cbeee42a1",
        "colab": {
          "base_uri": "https://localhost:8080/",
          "height": 252
        }
      },
      "cell_type": "code",
      "source": [
        "print('Model: SqueezeNet with Depthwise Convolutions')\n",
        "model_dw.fit(x_train, y_train, epochs = 5, validation_split = 0.15)\n",
        "score_dw, accuracy_dw = model_dw.evaluate(x_test, y_test)\n",
        "print('The testing accuracy for SqueezeNet with depthwise convolutions is {}'.format(accuracy_dw))"
      ],
      "execution_count": 0,
      "outputs": [
        {
          "output_type": "stream",
          "text": [
            "Model: SqueezeNet with Depthwise Convolutions\n",
            "Train on 51000 samples, validate on 9000 samples\n",
            "Epoch 1/5\n",
            "51000/51000 [==============================] - 174s 3ms/step - loss: 0.7958 - acc: 0.7842 - val_loss: 0.4968 - val_acc: 0.8393\n",
            "Epoch 2/5\n",
            "51000/51000 [==============================] - 167s 3ms/step - loss: 0.4887 - acc: 0.8488 - val_loss: 0.5150 - val_acc: 0.8230\n",
            "Epoch 3/5\n",
            "51000/51000 [==============================] - 167s 3ms/step - loss: 0.4081 - acc: 0.8678 - val_loss: 0.3340 - val_acc: 0.8847\n",
            "Epoch 4/5\n",
            "51000/51000 [==============================] - 167s 3ms/step - loss: 0.3639 - acc: 0.8780 - val_loss: 0.4105 - val_acc: 0.8662\n",
            "Epoch 5/5\n",
            "51000/51000 [==============================] - 168s 3ms/step - loss: 0.3351 - acc: 0.8878 - val_loss: 0.3488 - val_acc: 0.8782\n",
            "10000/10000 [==============================] - 9s 938us/step\n",
            "The testing accuracy for SqueezeNet with depthwise convolutions is 0.8769\n"
          ],
          "name": "stdout"
        }
      ]
    },
    {
      "metadata": {
        "id": "CGxpPRclsb3B",
        "colab_type": "code",
        "colab": {}
      },
      "cell_type": "code",
      "source": [
        "scores = model.predict(x_test)\n",
        "scores_dw = model_dw.predict(x_test)"
      ],
      "execution_count": 0,
      "outputs": []
    },
    {
      "metadata": {
        "id": "HcNW1ujdmKz2",
        "colab_type": "text"
      },
      "cell_type": "markdown",
      "source": [
        " Checking if the prediction from SqueezeNet matches the ground truth"
      ]
    },
    {
      "metadata": {
        "id": "pY9RnrQWs0ni",
        "colab_type": "code",
        "outputId": "94889007-f8e1-4186-f9a8-0d1754466c28",
        "colab": {
          "base_uri": "https://localhost:8080/",
          "height": 34
        }
      },
      "cell_type": "code",
      "source": [
        "#\n",
        "np.argmax(scores[2]) == y_test[2]"
      ],
      "execution_count": 0,
      "outputs": [
        {
          "output_type": "execute_result",
          "data": {
            "text/plain": [
              "True"
            ]
          },
          "metadata": {
            "tags": []
          },
          "execution_count": 24
        }
      ]
    },
    {
      "metadata": {
        "id": "-89aphS1mN8U",
        "colab_type": "text"
      },
      "cell_type": "markdown",
      "source": [
        "Checking if the prediction from SqueezeNet (with depthwise convolution and batchnorm) matches the ground truth"
      ]
    },
    {
      "metadata": {
        "id": "RE6-vMiUh20L",
        "colab_type": "code",
        "outputId": "450c8170-3418-41f8-dc1b-00c4bf71d99f",
        "colab": {
          "base_uri": "https://localhost:8080/",
          "height": 34
        }
      },
      "cell_type": "code",
      "source": [
        "# \n",
        "np.argmax(scores_dw[2]) == y_test[2]"
      ],
      "execution_count": 0,
      "outputs": [
        {
          "output_type": "execute_result",
          "data": {
            "text/plain": [
              "True"
            ]
          },
          "metadata": {
            "tags": []
          },
          "execution_count": 23
        }
      ]
    },
    {
      "metadata": {
        "id": "DsTwOmL0bpFj",
        "colab_type": "text"
      },
      "cell_type": "markdown",
      "source": [
        "## Summary\n",
        "\n",
        "It is evident from the evaluation that the depthwise convolutional network performs better and at higher speed compared to the traditional convolutional layers and contains only about one-thirds of parameters to learn.\n",
        "\n",
        "Feel free to tweak the hyperparameters and also the model. Observe how each of the changes affects the performance."
      ]
    }
  ]
}